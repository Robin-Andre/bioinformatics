{
 "cells": [
  {
   "cell_type": "code",
   "execution_count": 17,
   "metadata": {},
   "outputs": [
    {
     "name": "stderr",
     "output_type": "stream",
     "text": [
      "ERROR:root:Internal Python error in the inspect module.\n",
      "Below is the traceback from this internal error.\n",
      "\n"
     ]
    },
    {
     "name": "stdout",
     "output_type": "stream",
     "text": [
      "Traceback (most recent call last):\n",
      "  File \"/usr/local/lib/python3.5/dist-packages/IPython/core/interactiveshell.py\", line 3326, in run_code\n",
      "    exec(code_obj, self.user_global_ns, self.user_ns)\n",
      "  File \"<ipython-input-17-bb942779ffeb>\", line 16, in <module>\n",
      "    taxa = int(instance_name.split('/')[1])\n",
      "ValueError: invalid literal for int() with base 10: 'home'\n",
      "\n",
      "During handling of the above exception, another exception occurred:\n",
      "\n",
      "Traceback (most recent call last):\n",
      "  File \"/usr/local/lib/python3.5/dist-packages/IPython/core/interactiveshell.py\", line 2040, in showtraceback\n",
      "    stb = value._render_traceback_()\n",
      "AttributeError: 'ValueError' object has no attribute '_render_traceback_'\n",
      "\n",
      "During handling of the above exception, another exception occurred:\n",
      "\n",
      "Traceback (most recent call last):\n",
      "  File \"/usr/local/lib/python3.5/dist-packages/IPython/core/ultratb.py\", line 1101, in get_records\n",
      "    return _fixed_getinnerframes(etb, number_of_lines_of_context, tb_offset)\n",
      "  File \"/usr/local/lib/python3.5/dist-packages/IPython/core/ultratb.py\", line 319, in wrapped\n",
      "    return f(*args, **kwargs)\n",
      "  File \"/usr/local/lib/python3.5/dist-packages/IPython/core/ultratb.py\", line 353, in _fixed_getinnerframes\n",
      "    records = fix_frame_records_filenames(inspect.getinnerframes(etb, context))\n",
      "  File \"/usr/lib/python3.5/inspect.py\", line 1453, in getinnerframes\n",
      "    frameinfo = (tb.tb_frame,) + getframeinfo(tb, context)\n",
      "  File \"/usr/lib/python3.5/inspect.py\", line 1410, in getframeinfo\n",
      "    filename = getsourcefile(frame) or getfile(frame)\n",
      "  File \"/usr/lib/python3.5/inspect.py\", line 672, in getsourcefile\n",
      "    if getattr(getmodule(object, filename), '__loader__', None) is not None:\n",
      "  File \"/usr/lib/python3.5/inspect.py\", line 701, in getmodule\n",
      "    file = getabsfile(object, _filename)\n",
      "  File \"/usr/lib/python3.5/inspect.py\", line 685, in getabsfile\n",
      "    return os.path.normcase(os.path.abspath(_filename))\n",
      "  File \"/usr/lib/python3.5/posixpath.py\", line 361, in abspath\n",
      "    cwd = os.getcwd()\n",
      "FileNotFoundError: [Errno 2] No such file or directory\n"
     ]
    },
    {
     "ename": "ValueError",
     "evalue": "invalid literal for int() with base 10: 'home'",
     "output_type": "error",
     "traceback": [
      "\u001b[0;31m---------------------------------------------------------------------------\u001b[0m"
     ]
    }
   ],
   "source": [
    "%matplotlib inline\n",
    "import pandas as pd\n",
    "import numpy as np\n",
    "import matplotlib.pyplot as plt\n",
    "color_dict = {}\n",
    "color_dict['MSI'] = \"blue\"\n",
    "color_dict['SPI'] = \"green\"\n",
    "color_dict['MCI'] = \"orange\"\n",
    "\n",
    "csv_df = pd.read_csv('../benchmark/robin_full.csv', delim_whitespace=True, header=None)\n",
    "#values[10][24]['MSI']\n",
    "values = {}\n",
    "for row in csv_df.iterrows():\n",
    "    instance_name = row[1][0]\n",
    "    trees = 10\n",
    "    taxa = int(instance_name.split('/')[1])\n",
    "    metric = row[1][1]\n",
    "    #mode = row[1][2]\n",
    "    runtime = float(row[1][3])\n",
    "    if not (trees in values):\n",
    "        values[trees] = {}\n",
    "    if not (metric in values[trees]):\n",
    "        values[trees][metric] = {}\n",
    "    values[trees][metric][taxa] = runtime;\n",
    "#print(values)\n",
    "\n",
    "#separate set of plots for different tree set sizes\n",
    "plt.rcParams[\"figure.figsize\"] = (9, 6)\n",
    "for trees in values:\n",
    "    plt.title(str(trees) + ' trees')\n",
    "    plt.xlabel('taxa')\n",
    "    plt.ylabel('runtime')\n",
    "    #separate line per metric\n",
    "    for metric, results in values[trees].items():\n",
    "        x_values = [taxa for taxa, runtime in results.items()]\n",
    "        y_values = [runtime for taxa, runtime in results.items()]\n",
    "        sort_index = np.argsort(x_values)\n",
    "        x_values = [x_values[sort_index[i]] for i in range(len(sort_index))]\n",
    "        y_values = [y_values[sort_index[i]] for i in range(len(sort_index))]\n",
    "        plt.plot(x_values ,y_values, label = metric, color = color_dict[metric])\n",
    "        plt.scatter(x_values, y_values, color = color_dict[metric])\n",
    "    plt.legend()\n",
    "    plt.savefig('output/metric_runtimes_' + str(trees) + \"_trees\" )\n",
    "    plt.show()\n",
    "    \n",
    "        "
   ]
  },
  {
   "cell_type": "code",
   "execution_count": null,
   "metadata": {},
   "outputs": [],
   "source": []
  },
  {
   "cell_type": "code",
   "execution_count": null,
   "metadata": {},
   "outputs": [],
   "source": []
  }
 ],
 "metadata": {
  "kernelspec": {
   "display_name": "Python 3",
   "language": "python",
   "name": "python3"
  },
  "language_info": {
   "codemirror_mode": {
    "name": "ipython",
    "version": 3
   },
   "file_extension": ".py",
   "mimetype": "text/x-python",
   "name": "python",
   "nbconvert_exporter": "python",
   "pygments_lexer": "ipython3",
   "version": "3.5.2"
  }
 },
 "nbformat": 4,
 "nbformat_minor": 4
}
